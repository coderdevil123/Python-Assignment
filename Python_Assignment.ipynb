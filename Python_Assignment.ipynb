{
  "nbformat": 4,
  "nbformat_minor": 0,
  "metadata": {
    "colab": {
      "provenance": [],
      "authorship_tag": "ABX9TyO/HsA+YOA/vwSMFkolrZpD",
      "include_colab_link": true
    },
    "kernelspec": {
      "name": "python3",
      "display_name": "Python 3"
    },
    "language_info": {
      "name": "python"
    }
  },
  "cells": [
    {
      "cell_type": "markdown",
      "metadata": {
        "id": "view-in-github",
        "colab_type": "text"
      },
      "source": [
        "<a href=\"https://colab.research.google.com/github/coderdevil123/Python-Assignment/blob/main/Python_Assignment.ipynb\" target=\"_parent\"><img src=\"https://colab.research.google.com/assets/colab-badge.svg\" alt=\"Open In Colab\"/></a>"
      ]
    },
    {
      "cell_type": "code",
      "execution_count": 1,
      "metadata": {
        "colab": {
          "base_uri": "https://localhost:8080/"
        },
        "id": "edMrj1CvqKtL",
        "outputId": "8c305114-5b2a-4360-a6f1-3c9877814e7e"
      },
      "outputs": [
        {
          "output_type": "stream",
          "name": "stdout",
          "text": [
            "After adding 50 and 60: [11, 12, 13, 14, 50, 60]\n",
            "After removing 11 and 13: [12, 14, 50, 60]\n",
            "Sorted in ascending: [12, 14, 50, 60]\n",
            "Sorted in descending: [60, 50, 14, 12]\n",
            "13 is in list? False\n",
            "Number of elements: 4\n",
            "Sum of elements: 136\n",
            "Sum of ODD numbers: 0\n",
            "Sum of EVEN numbers: 136\n",
            "Sum of PRIME numbers: 0\n",
            "After clearing: []\n"
          ]
        }
      ],
      "source": [
        "L = [11, 12, 13, 14]\n",
        "\n",
        "# (i)\n",
        "L.extend([50, 60])\n",
        "print(\"After adding 50 and 60:\", L)\n",
        "\n",
        "# (ii)\n",
        "L.remove(11)\n",
        "L.remove(13)\n",
        "print(\"After removing 11 and 13:\", L)\n",
        "\n",
        "# (iii)\n",
        "L.sort()\n",
        "print(\"Sorted in ascending:\", L)\n",
        "\n",
        "# (iv)\n",
        "L.sort(reverse=True)\n",
        "print(\"Sorted in descending:\", L)\n",
        "\n",
        "# (v)\n",
        "print(\"13 is in list?\" , 13 in L)\n",
        "\n",
        "# (vi)\n",
        "print(\"Number of elements:\", len(L))\n",
        "\n",
        "# (vii)\n",
        "print(\"Sum of elements:\", sum(L))\n",
        "\n",
        "# (viii)\n",
        "print(\"Sum of ODD numbers:\", sum(i for i in L if i % 2 != 0))\n",
        "\n",
        "# (ix)\n",
        "print(\"Sum of EVEN numbers:\", sum(i for i in L if i % 2 == 0))\n",
        "\n",
        "# (x)\n",
        "def is_prime(n):\n",
        "    if n < 2:\n",
        "        return False\n",
        "    for i in range(2,int(n**0.5)+1):\n",
        "        if n % i == 0:\n",
        "            return False\n",
        "    return True\n",
        "\n",
        "print(\"Sum of PRIME numbers:\", sum(i for i in L if is_prime(i)))\n",
        "\n",
        "# (xi)\n",
        "L.clear()\n",
        "print(\"After clearing:\", L)\n",
        "\n",
        "# (xii)\n",
        "del L\n"
      ]
    },
    {
      "cell_type": "code",
      "source": [
        "D = {1:5.6, 2:7.8, 3:6.6, 4:8.7, 5:7.7}\n",
        "\n",
        "# (i)\n",
        "D[8] = 8.8\n",
        "\n",
        "# (ii)\n",
        "D.pop(2, None)\n",
        "\n",
        "# (iii)\n",
        "print(\"Is key 6 in dictionary?\", 6 in D)\n",
        "\n",
        "# (iv)\n",
        "print(\"Number of elements:\", len(D))\n",
        "\n",
        "# (v)\n",
        "print(\"Sum of all values:\", sum(D.values()))\n",
        "\n",
        "# (vi)\n",
        "D[3] = 7.1\n",
        "\n",
        "# (vii)\n",
        "D.clear()\n",
        "print(\"Dictionary after clearing:\", D)\n"
      ],
      "metadata": {
        "colab": {
          "base_uri": "https://localhost:8080/"
        },
        "id": "2el1eDkrqnUx",
        "outputId": "6165b893-5e6f-4ec7-9cf8-bdb9c0906f62"
      },
      "execution_count": 2,
      "outputs": [
        {
          "output_type": "stream",
          "name": "stdout",
          "text": [
            "Is key 6 in dictionary? False\n",
            "Number of elements: 5\n",
            "Sum of all values: 37.4\n",
            "Dictionary after clearing: {}\n"
          ]
        }
      ]
    },
    {
      "cell_type": "code",
      "source": [
        "S1 = set([10, 20, 30, 40, 50, 60])\n",
        "S2 = set([40, 50, 60, 70, 80, 90])\n",
        "\n",
        "# (i)\n",
        "S1.update([55, 66])\n",
        "print(\"After adding:\", S1)\n",
        "\n",
        "# (ii)\n",
        "S1.discard(10)\n",
        "S1.discard(30)\n",
        "print(\"After removing:\", S1)\n",
        "\n",
        "# (iii)\n",
        "print(\"Is 40 in S1?\", 40 in S1)\n",
        "\n",
        "# (iv)\n",
        "print(\"Union:\", S1.union(S2))\n",
        "\n",
        "# (v)\n",
        "print(\"Intersection:\", S1.intersection(S2))\n",
        "\n",
        "# (vi)\n",
        "print(\"S1 - S2:\", S1.difference(S2))\n"
      ],
      "metadata": {
        "colab": {
          "base_uri": "https://localhost:8080/"
        },
        "id": "DUNv1ehgqtBk",
        "outputId": "a6956976-4b0f-49f3-8205-4e05c59e7448"
      },
      "execution_count": 3,
      "outputs": [
        {
          "output_type": "stream",
          "name": "stdout",
          "text": [
            "After adding: {66, 40, 10, 50, 20, 55, 60, 30}\n",
            "After removing: {66, 40, 50, 20, 55, 60}\n",
            "Is 40 in S1? True\n",
            "Union: {66, 70, 40, 80, 50, 20, 55, 90, 60}\n",
            "Intersection: {40, 50, 60}\n",
            "S1 - S2: {66, 20, 55}\n"
          ]
        }
      ]
    },
    {
      "cell_type": "code",
      "source": [
        "import random\n",
        "import string\n",
        "\n",
        "# (i)\n",
        "for _ in range(100):\n",
        "    print(''.join(random.choices(string.ascii_letters, k=random.randint(6, 8))))\n",
        "\n",
        "# (ii)\n",
        "for num in range(600, 801):\n",
        "    if is_prime(num):\n",
        "        print(num)\n",
        "\n",
        "# (iii)\n",
        "for num in range(100, 1001):\n",
        "    if num % 7 == 0 and num % 9 == 0:\n",
        "        print(num)\n"
      ],
      "metadata": {
        "colab": {
          "base_uri": "https://localhost:8080/"
        },
        "id": "HAqwpcoFqzGQ",
        "outputId": "22a00f01-0694-4848-e6d2-7dd45729be5b"
      },
      "execution_count": 4,
      "outputs": [
        {
          "output_type": "stream",
          "name": "stdout",
          "text": [
            "eafUmES\n",
            "TiBlFUjW\n",
            "DpfdyH\n",
            "Injltf\n",
            "oGamSSU\n",
            "qutvsw\n",
            "NCfqxfD\n",
            "MlFyym\n",
            "cPIOJDq\n",
            "NXZPff\n",
            "eZGwoce\n",
            "vaxkYCwk\n",
            "YdPenHk\n",
            "awEDtuU\n",
            "NyrhpCKu\n",
            "OTlIGq\n",
            "OdDiTq\n",
            "kHWDoFvY\n",
            "eHvAphMc\n",
            "JnRCaPwb\n",
            "FFqhig\n",
            "xbNhIg\n",
            "pEsioyrF\n",
            "ROKqQsB\n",
            "PxXZum\n",
            "PkTnZr\n",
            "TvLhYTR\n",
            "yGUXWshl\n",
            "xEdunJY\n",
            "jVeCFO\n",
            "WQUVSEV\n",
            "hpyLoUOQ\n",
            "axsAEy\n",
            "LimauNgi\n",
            "eFprSgjM\n",
            "QmcVdIC\n",
            "ETcvpyba\n",
            "moCfYbut\n",
            "PoLlDk\n",
            "uwXvmx\n",
            "zmNeHGy\n",
            "UOIKUAlL\n",
            "YymGBoi\n",
            "RlkBSprf\n",
            "rDjkxmCs\n",
            "AqPGkNC\n",
            "iKjjRNOl\n",
            "VvnzBKr\n",
            "NJTbWRd\n",
            "WsxMXmoz\n",
            "pOMVtnW\n",
            "TVGLxQ\n",
            "nRYHnfwU\n",
            "FmvcjXbT\n",
            "usLTIg\n",
            "vnjrakC\n",
            "MTKzCBiG\n",
            "nFSuPaG\n",
            "ObrugZxf\n",
            "kuUVBB\n",
            "qkdiXex\n",
            "fRQgZssx\n",
            "RUzSns\n",
            "EvPESDs\n",
            "hoAdVucC\n",
            "MwmaKpO\n",
            "xAzWQmsn\n",
            "QYPjWG\n",
            "LRwVccww\n",
            "XJvVMPn\n",
            "WPhAEmW\n",
            "CnhhHnPC\n",
            "XhrJLSB\n",
            "jCklxK\n",
            "JKnZzN\n",
            "sFcWzz\n",
            "sjxWiw\n",
            "ehMJqA\n",
            "IUyIaqU\n",
            "JOXCyoor\n",
            "PShRpv\n",
            "pkYfCCG\n",
            "xRHoPR\n",
            "awaJbBM\n",
            "YTtnbcH\n",
            "FopCVxm\n",
            "jzbEXNiI\n",
            "ZEZNsRT\n",
            "QUYIhJ\n",
            "wjKapp\n",
            "gGSggIXn\n",
            "kZqBDvDY\n",
            "ZFQNal\n",
            "BxTMIjs\n",
            "LFmiuTY\n",
            "jUlPYH\n",
            "qZhathjN\n",
            "HUKqRyZ\n",
            "aynmgWN\n",
            "tofuMXoc\n",
            "601\n",
            "607\n",
            "613\n",
            "617\n",
            "619\n",
            "631\n",
            "641\n",
            "643\n",
            "647\n",
            "653\n",
            "659\n",
            "661\n",
            "673\n",
            "677\n",
            "683\n",
            "691\n",
            "701\n",
            "709\n",
            "719\n",
            "727\n",
            "733\n",
            "739\n",
            "743\n",
            "751\n",
            "757\n",
            "761\n",
            "769\n",
            "773\n",
            "787\n",
            "797\n",
            "126\n",
            "189\n",
            "252\n",
            "315\n",
            "378\n",
            "441\n",
            "504\n",
            "567\n",
            "630\n",
            "693\n",
            "756\n",
            "819\n",
            "882\n",
            "945\n"
          ]
        }
      ]
    },
    {
      "cell_type": "code",
      "source": [
        "nums = [random.randint(100, 900) for _ in range(100)]\n",
        "\n",
        "odds = [n for n in nums if n % 2 != 0]\n",
        "evens = [n for n in nums if n % 2 == 0]\n",
        "primes = [n for n in nums if is_prime(n)]\n",
        "\n",
        "print(\"ODD:\", odds)\n",
        "print(\"EVEN:\", evens)\n",
        "print(\"PRIME:\", primes)\n"
      ],
      "metadata": {
        "colab": {
          "base_uri": "https://localhost:8080/"
        },
        "id": "wZWRLSLJq4zk",
        "outputId": "005ae0b6-88ab-46f0-c0f0-c72dc80a21b2"
      },
      "execution_count": 5,
      "outputs": [
        {
          "output_type": "stream",
          "name": "stdout",
          "text": [
            "ODD: [589, 813, 667, 629, 385, 211, 507, 261, 129, 457, 419, 573, 229, 477, 451, 657, 195, 135, 695, 171, 585, 445, 763, 827, 881, 663, 101, 369, 523, 695, 851, 563, 247, 593, 751, 477, 891, 791, 675, 505, 673, 573, 891, 707, 609, 765, 111]\n",
            "EVEN: [352, 600, 266, 728, 548, 546, 372, 266, 760, 442, 114, 584, 732, 582, 384, 192, 812, 274, 570, 206, 300, 210, 806, 644, 242, 408, 488, 360, 272, 834, 118, 868, 660, 392, 254, 148, 866, 474, 586, 446, 840, 248, 686, 234, 588, 424, 634, 214, 636, 456, 726, 362, 342]\n",
            "PRIME: [211, 457, 419, 229, 827, 881, 101, 523, 563, 593, 751, 673]\n"
          ]
        }
      ]
    },
    {
      "cell_type": "code",
      "source": [
        "D = {1:\"One\",2:\"Two\",3:\"Three\",4:\"Four\", 5:\"Five\"}\n",
        "\n",
        "with open(\"dict_output.txt\", \"w\") as f:\n",
        "    for k, v in D.items():\n",
        "        f.write(f\"{k}, {v}\\n\")\n"
      ],
      "metadata": {
        "id": "Po3BJj9_q75B"
      },
      "execution_count": 7,
      "outputs": []
    },
    {
      "cell_type": "code",
      "source": [
        "L = [\"One\",\"Two\",\"Three\",\"Four\",\"Five\"]\n",
        "\n",
        "with open(\"list_lengths.txt\", \"w\") as f:\n",
        "    for item in L:\n",
        "        f.write(f\"{item}, {len(item)}\\n\")\n"
      ],
      "metadata": {
        "id": "Vmm83nUFsOra"
      },
      "execution_count": 9,
      "outputs": []
    },
    {
      "cell_type": "code",
      "source": [
        "with open(\"random_strings.txt\", \"w\") as f:\n",
        "    for _ in range(100):\n",
        "        s = ''.join(random.choices(string.ascii_letters, k=random.randint(10, 15)))\n",
        "        f.write(s + \"\\n\")\n"
      ],
      "metadata": {
        "id": "H-SMdYr_tVf1"
      },
      "execution_count": 10,
      "outputs": []
    },
    {
      "cell_type": "code",
      "source": [
        "with open(\"prime_600_800.txt\", \"w\") as f:\n",
        "    for num in range(600, 801):\n",
        "        if is_prime(num):\n",
        "            f.write(str(num) + \"\\n\")\n"
      ],
      "metadata": {
        "id": "pvm26-6Avyxr"
      },
      "execution_count": 11,
      "outputs": []
    },
    {
      "cell_type": "code",
      "source": [
        "import time\n",
        "\n",
        "start = time.time()\n",
        "sum([i for i in range(1, 1000000)])\n",
        "end = time.time()\n",
        "print(\"Time Taken:\", end - start, \"seconds\")\n"
      ],
      "metadata": {
        "colab": {
          "base_uri": "https://localhost:8080/"
        },
        "id": "6UFjlczcv26Y",
        "outputId": "e983a2b7-2848-4e8c-8f51-fee93f024dd6"
      },
      "execution_count": 12,
      "outputs": [
        {
          "output_type": "stream",
          "name": "stdout",
          "text": [
            "Time Taken: 0.09458756446838379 seconds\n"
          ]
        }
      ]
    },
    {
      "cell_type": "code",
      "source": [
        "import matplotlib.pyplot as plt\n",
        "\n",
        "sizes = [5000, 10000, 15000, 20000, 25000]\n",
        "times = []\n",
        "\n",
        "for size in sizes:\n",
        "    data = [random.randint(1, 100000) for _ in range(size)]\n",
        "    start = time.time()\n",
        "    sorted(data)\n",
        "    end = time.time()\n",
        "    times.append(end - start)\n",
        "\n",
        "for s, t in zip(sizes, times):\n",
        "    print(f\"{s} elements -> {t:.4f} seconds\")\n",
        "\n",
        "plt.plot(sizes, times, marker='o')\n",
        "plt.xlabel(\"Number of elements\")\n",
        "plt.ylabel(\"Time taken (seconds)\")\n",
        "plt.title(\"Sorting Time vs Number of Elements\")\n",
        "plt.grid(True)\n",
        "plt.show()\n"
      ],
      "metadata": {
        "colab": {
          "base_uri": "https://localhost:8080/",
          "height": 561
        },
        "id": "HLgZuuWVv8Qr",
        "outputId": "717e8e98-9fde-45d5-923f-95356da57918"
      },
      "execution_count": 13,
      "outputs": [
        {
          "output_type": "stream",
          "name": "stdout",
          "text": [
            "5000 elements -> 0.0133 seconds\n",
            "10000 elements -> 0.0024 seconds\n",
            "15000 elements -> 0.0360 seconds\n",
            "20000 elements -> 0.0117 seconds\n",
            "25000 elements -> 0.0080 seconds\n"
          ]
        },
        {
          "output_type": "display_data",
          "data": {
            "text/plain": [
              "<Figure size 640x480 with 1 Axes>"
            ],
            "image/png": "[encoded data removed]"
          },
          "metadata": {}
        }
      ]
    },
    {
      "cell_type": "code",
      "source": [
        "students = {\n",
        "    \"Alice\": [88, 76, 92, 85, 90],\n",
        "    \"Bob\": [78, 82, 80, 76, 79],\n",
        "    \"Charlie\": [95, 90, 96, 94, 98],\n",
        "    \"David\": [60, 65, 70, 68, 62]\n",
        "}\n",
        "\n",
        "averages = {name: sum(marks)/len(marks) for name, marks in students.items()}\n",
        "\n",
        "max_student = max(averages, key=averages.get)\n",
        "min_student = min(averages, key=averages.get)\n",
        "\n",
        "print(\"Maximum Average:\", max_student, \"->\", averages[max_student])\n",
        "print(\"Minimum Average:\", min_student, \"->\", averages[min_student])\n"
      ],
      "metadata": {
        "colab": {
          "base_uri": "https://localhost:8080/"
        },
        "id": "NsZMUL_5xQxs",
        "outputId": "9175eb75-9c51-467a-f96d-1da0504c491b"
      },
      "execution_count": 14,
      "outputs": [
        {
          "output_type": "stream",
          "name": "stdout",
          "text": [
            "Maximum Average: Charlie -> 94.6\n",
            "Minimum Average: David -> 65.0\n"
          ]
        }
      ]
    }
  ]
}